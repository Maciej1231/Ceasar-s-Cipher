{
 "cells": [
  {
   "cell_type": "code",
   "execution_count": null,
   "id": "7b4c14bc",
   "metadata": {},
   "outputs": [],
   "source": []
  },
  {
   "cell_type": "code",
   "execution_count": null,
   "id": "dcedea0c",
   "metadata": {},
   "outputs": [],
   "source": []
  },
  {
   "cell_type": "code",
   "execution_count": null,
   "id": "e08839c0",
   "metadata": {},
   "outputs": [],
   "source": []
  },
  {
   "cell_type": "code",
   "execution_count": 1,
   "id": "928f79d9",
   "metadata": {},
   "outputs": [
    {
     "name": "stdout",
     "output_type": "stream",
     "text": [
      "enter your plaintext heremad\n",
      "The ciphertext is: ocf\n"
     ]
    }
   ],
   "source": [
    "plaintext = input(\"enter your plaintext here\")\n",
    "shift = 2\n",
    "alphabet = \"abcdefghijklmnopqrstuvwxyz\"\n",
    "ciphertext =\"\"\n",
    "\n",
    "while isinstance(int(shift), int)== False:\n",
    "    shift = input(\"Please enter your key( integers only!):\")\n",
    "shift = int(shift)\n",
    "\n",
    "new_ind = 0\n",
    "for i in plaintext:\n",
    "    if i.lower()in alphabet:\n",
    "        new_ind = alphabet.index(i) +shift\n",
    "        ciphertext+=alphabet[new_ind % 26]\n",
    "    else:\n",
    "        ciphertext +=i\n",
    "print(\"The ciphertext is: \" +ciphertext)\n",
    "        "
   ]
  },
  {
   "cell_type": "code",
   "execution_count": null,
   "id": "55bdd62d",
   "metadata": {},
   "outputs": [],
   "source": []
  }
 ],
 "metadata": {
  "kernelspec": {
   "display_name": "Python 3 (ipykernel)",
   "language": "python",
   "name": "python3"
  },
  "language_info": {
   "codemirror_mode": {
    "name": "ipython",
    "version": 3
   },
   "file_extension": ".py",
   "mimetype": "text/x-python",
   "name": "python",
   "nbconvert_exporter": "python",
   "pygments_lexer": "ipython3",
   "version": "3.9.7"
  }
 },
 "nbformat": 4,
 "nbformat_minor": 5
}
